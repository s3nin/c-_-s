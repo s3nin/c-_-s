{
 "cells": [
  {
   "cell_type": "code",
   "execution_count": 1,
   "id": "af4bfe02",
   "metadata": {
    "_cell_guid": "b1076dfc-b9ad-4769-8c92-a6c4dae69d19",
    "_uuid": "8f2839f25d086af736a60e9eeb907d3b93b6e0e5",
    "execution": {
     "iopub.execute_input": "2024-05-06T16:19:21.858215Z",
     "iopub.status.busy": "2024-05-06T16:19:21.857467Z",
     "iopub.status.idle": "2024-05-06T16:19:22.653024Z",
     "shell.execute_reply": "2024-05-06T16:19:22.651916Z"
    },
    "papermill": {
     "duration": 0.808378,
     "end_time": "2024-05-06T16:19:22.656183",
     "exception": false,
     "start_time": "2024-05-06T16:19:21.847805",
     "status": "completed"
    },
    "tags": []
   },
   "outputs": [
    {
     "name": "stdout",
     "output_type": "stream",
     "text": [
      "/kaggle/input/irish-dataset/irish.csv\n"
     ]
    }
   ],
   "source": [
    "# This Python 3 environment comes with many helpful analytics libraries installed\n",
    "# It is defined by the kaggle/python Docker image: https://github.com/kaggle/docker-python\n",
    "# For example, here's several helpful packages to load\n",
    "\n",
    "import numpy as np # linear algebra\n",
    "import pandas as pd # data processing, CSV file I/O (e.g. pd.read_csv)\n",
    "\n",
    "# Input data files are available in the read-only \"../input/\" directory\n",
    "# For example, running this (by clicking run or pressing Shift+Enter) will list all files under the input directory\n",
    "\n",
    "import os\n",
    "for dirname, _, filenames in os.walk('/kaggle/input'):\n",
    "    for filename in filenames:\n",
    "        print(os.path.join(dirname, filename))\n",
    "\n",
    "# You can write up to 20GB to the current directory (/kaggle/working/) that gets preserved as output when you create a version using \"Save & Run All\" \n",
    "# You can also write temporary files to /kaggle/temp/, but they won't be saved outside of the current session"
   ]
  },
  {
   "cell_type": "code",
   "execution_count": 2,
   "id": "37b48392",
   "metadata": {
    "execution": {
     "iopub.execute_input": "2024-05-06T16:19:22.674491Z",
     "iopub.status.busy": "2024-05-06T16:19:22.673709Z",
     "iopub.status.idle": "2024-05-06T16:19:24.794276Z",
     "shell.execute_reply": "2024-05-06T16:19:24.793264Z"
    },
    "papermill": {
     "duration": 2.131546,
     "end_time": "2024-05-06T16:19:24.796862",
     "exception": false,
     "start_time": "2024-05-06T16:19:22.665316",
     "status": "completed"
    },
    "tags": []
   },
   "outputs": [],
   "source": [
    "import seaborn as sns\n",
    "import plotly.express as px\n",
    "import plotly.graph_objs as go\n",
    "import matplotlib.pyplot as plt\n",
    "from wordcloud import WordCloud\n",
    "from sklearn.model_selection import train_test_split\n",
    "from sklearn.metrics import classification_report\n",
    "from sklearn.metrics import confusion_matrix\n",
    "from sklearn.metrics import accuracy_score\n",
    "from collections import defaultdict\n",
    "from scipy.spatial.distance import cdist\n",
    "from sklearn.preprocessing import MinMaxScaler, StandardScaler\n",
    "\n",
    "import warnings\n",
    "warnings.filterwarnings(\"ignore\")"
   ]
  },
  {
   "cell_type": "code",
   "execution_count": 3,
   "id": "c51cdbee",
   "metadata": {
    "execution": {
     "iopub.execute_input": "2024-05-06T16:19:24.812711Z",
     "iopub.status.busy": "2024-05-06T16:19:24.812127Z",
     "iopub.status.idle": "2024-05-06T16:19:24.829722Z",
     "shell.execute_reply": "2024-05-06T16:19:24.828745Z"
    },
    "papermill": {
     "duration": 0.02814,
     "end_time": "2024-05-06T16:19:24.832134",
     "exception": false,
     "start_time": "2024-05-06T16:19:24.803994",
     "status": "completed"
    },
    "tags": []
   },
   "outputs": [],
   "source": [
    "data = pd.read_csv(\"../input/irish-dataset/irish.csv\")"
   ]
  },
  {
   "cell_type": "code",
   "execution_count": 4,
   "id": "20ecb3d6",
   "metadata": {
    "execution": {
     "iopub.execute_input": "2024-05-06T16:19:24.848255Z",
     "iopub.status.busy": "2024-05-06T16:19:24.847555Z",
     "iopub.status.idle": "2024-05-06T16:19:24.854448Z",
     "shell.execute_reply": "2024-05-06T16:19:24.853488Z"
    },
    "papermill": {
     "duration": 0.01718,
     "end_time": "2024-05-06T16:19:24.856371",
     "exception": false,
     "start_time": "2024-05-06T16:19:24.839191",
     "status": "completed"
    },
    "tags": []
   },
   "outputs": [
    {
     "data": {
      "text/plain": [
       "(150, 5)"
      ]
     },
     "execution_count": 4,
     "metadata": {},
     "output_type": "execute_result"
    }
   ],
   "source": [
    "data.shape"
   ]
  },
  {
   "cell_type": "code",
   "execution_count": 5,
   "id": "a28ec9ec",
   "metadata": {
    "execution": {
     "iopub.execute_input": "2024-05-06T16:19:24.872747Z",
     "iopub.status.busy": "2024-05-06T16:19:24.872013Z",
     "iopub.status.idle": "2024-05-06T16:19:24.894699Z",
     "shell.execute_reply": "2024-05-06T16:19:24.893671Z"
    },
    "papermill": {
     "duration": 0.033102,
     "end_time": "2024-05-06T16:19:24.896696",
     "exception": false,
     "start_time": "2024-05-06T16:19:24.863594",
     "status": "completed"
    },
    "tags": []
   },
   "outputs": [
    {
     "data": {
      "text/html": [
       "<div>\n",
       "<style scoped>\n",
       "    .dataframe tbody tr th:only-of-type {\n",
       "        vertical-align: middle;\n",
       "    }\n",
       "\n",
       "    .dataframe tbody tr th {\n",
       "        vertical-align: top;\n",
       "    }\n",
       "\n",
       "    .dataframe thead th {\n",
       "        text-align: right;\n",
       "    }\n",
       "</style>\n",
       "<table border=\"1\" class=\"dataframe\">\n",
       "  <thead>\n",
       "    <tr style=\"text-align: right;\">\n",
       "      <th></th>\n",
       "      <th>sepal length</th>\n",
       "      <th>sepal width</th>\n",
       "      <th>petal length</th>\n",
       "      <th>petal width</th>\n",
       "      <th>flower type</th>\n",
       "    </tr>\n",
       "  </thead>\n",
       "  <tbody>\n",
       "    <tr>\n",
       "      <th>0</th>\n",
       "      <td>5.1</td>\n",
       "      <td>3.5</td>\n",
       "      <td>1.4</td>\n",
       "      <td>0.2</td>\n",
       "      <td>Iris-setosa</td>\n",
       "    </tr>\n",
       "    <tr>\n",
       "      <th>1</th>\n",
       "      <td>4.9</td>\n",
       "      <td>3.0</td>\n",
       "      <td>1.4</td>\n",
       "      <td>0.2</td>\n",
       "      <td>Iris-setosa</td>\n",
       "    </tr>\n",
       "    <tr>\n",
       "      <th>2</th>\n",
       "      <td>4.7</td>\n",
       "      <td>3.2</td>\n",
       "      <td>1.3</td>\n",
       "      <td>0.2</td>\n",
       "      <td>Iris-setosa</td>\n",
       "    </tr>\n",
       "    <tr>\n",
       "      <th>3</th>\n",
       "      <td>4.6</td>\n",
       "      <td>3.1</td>\n",
       "      <td>1.5</td>\n",
       "      <td>0.2</td>\n",
       "      <td>Iris-setosa</td>\n",
       "    </tr>\n",
       "    <tr>\n",
       "      <th>4</th>\n",
       "      <td>5.0</td>\n",
       "      <td>3.6</td>\n",
       "      <td>1.4</td>\n",
       "      <td>0.2</td>\n",
       "      <td>Iris-setosa</td>\n",
       "    </tr>\n",
       "  </tbody>\n",
       "</table>\n",
       "</div>"
      ],
      "text/plain": [
       "   sepal length  sepal width   petal length   petal width  flower type\n",
       "0           5.1          3.5             1.4          0.2  Iris-setosa\n",
       "1           4.9          3.0             1.4          0.2  Iris-setosa\n",
       "2           4.7          3.2             1.3          0.2  Iris-setosa\n",
       "3           4.6          3.1             1.5          0.2  Iris-setosa\n",
       "4           5.0          3.6             1.4          0.2  Iris-setosa"
      ]
     },
     "execution_count": 5,
     "metadata": {},
     "output_type": "execute_result"
    }
   ],
   "source": [
    "data.head()"
   ]
  },
  {
   "cell_type": "code",
   "execution_count": 6,
   "id": "c345b17e",
   "metadata": {
    "execution": {
     "iopub.execute_input": "2024-05-06T16:19:24.913033Z",
     "iopub.status.busy": "2024-05-06T16:19:24.912644Z",
     "iopub.status.idle": "2024-05-06T16:19:24.925546Z",
     "shell.execute_reply": "2024-05-06T16:19:24.924517Z"
    },
    "papermill": {
     "duration": 0.023691,
     "end_time": "2024-05-06T16:19:24.927585",
     "exception": false,
     "start_time": "2024-05-06T16:19:24.903894",
     "status": "completed"
    },
    "tags": []
   },
   "outputs": [
    {
     "data": {
      "text/html": [
       "<div>\n",
       "<style scoped>\n",
       "    .dataframe tbody tr th:only-of-type {\n",
       "        vertical-align: middle;\n",
       "    }\n",
       "\n",
       "    .dataframe tbody tr th {\n",
       "        vertical-align: top;\n",
       "    }\n",
       "\n",
       "    .dataframe thead th {\n",
       "        text-align: right;\n",
       "    }\n",
       "</style>\n",
       "<table border=\"1\" class=\"dataframe\">\n",
       "  <thead>\n",
       "    <tr style=\"text-align: right;\">\n",
       "      <th></th>\n",
       "      <th>sepal length</th>\n",
       "      <th>sepal width</th>\n",
       "      <th>petal length</th>\n",
       "      <th>petal width</th>\n",
       "      <th>flower type</th>\n",
       "    </tr>\n",
       "  </thead>\n",
       "  <tbody>\n",
       "    <tr>\n",
       "      <th>145</th>\n",
       "      <td>6.7</td>\n",
       "      <td>3.0</td>\n",
       "      <td>5.2</td>\n",
       "      <td>2.3</td>\n",
       "      <td>Iris-virginica</td>\n",
       "    </tr>\n",
       "    <tr>\n",
       "      <th>146</th>\n",
       "      <td>6.3</td>\n",
       "      <td>2.5</td>\n",
       "      <td>5.0</td>\n",
       "      <td>1.9</td>\n",
       "      <td>Iris-virginica</td>\n",
       "    </tr>\n",
       "    <tr>\n",
       "      <th>147</th>\n",
       "      <td>6.5</td>\n",
       "      <td>3.0</td>\n",
       "      <td>5.2</td>\n",
       "      <td>2.0</td>\n",
       "      <td>Iris-virginica</td>\n",
       "    </tr>\n",
       "    <tr>\n",
       "      <th>148</th>\n",
       "      <td>6.2</td>\n",
       "      <td>3.4</td>\n",
       "      <td>5.4</td>\n",
       "      <td>2.3</td>\n",
       "      <td>Iris-virginica</td>\n",
       "    </tr>\n",
       "    <tr>\n",
       "      <th>149</th>\n",
       "      <td>5.9</td>\n",
       "      <td>3.0</td>\n",
       "      <td>5.1</td>\n",
       "      <td>1.8</td>\n",
       "      <td>Iris-virginica</td>\n",
       "    </tr>\n",
       "  </tbody>\n",
       "</table>\n",
       "</div>"
      ],
      "text/plain": [
       "     sepal length  sepal width   petal length   petal width     flower type\n",
       "145           6.7          3.0             5.2          2.3  Iris-virginica\n",
       "146           6.3          2.5             5.0          1.9  Iris-virginica\n",
       "147           6.5          3.0             5.2          2.0  Iris-virginica\n",
       "148           6.2          3.4             5.4          2.3  Iris-virginica\n",
       "149           5.9          3.0             5.1          1.8  Iris-virginica"
      ]
     },
     "execution_count": 6,
     "metadata": {},
     "output_type": "execute_result"
    }
   ],
   "source": [
    "data.tail()"
   ]
  },
  {
   "cell_type": "code",
   "execution_count": 7,
   "id": "f45909b8",
   "metadata": {
    "execution": {
     "iopub.execute_input": "2024-05-06T16:19:24.945689Z",
     "iopub.status.busy": "2024-05-06T16:19:24.944996Z",
     "iopub.status.idle": "2024-05-06T16:19:24.952054Z",
     "shell.execute_reply": "2024-05-06T16:19:24.951296Z"
    },
    "papermill": {
     "duration": 0.017634,
     "end_time": "2024-05-06T16:19:24.953852",
     "exception": false,
     "start_time": "2024-05-06T16:19:24.936218",
     "status": "completed"
    },
    "tags": []
   },
   "outputs": [
    {
     "data": {
      "text/plain": [
       "sepal length      False\n",
       "sepal width       False\n",
       " petal length     False\n",
       "petal width       False\n",
       " flower type      False\n",
       "dtype: bool"
      ]
     },
     "execution_count": 7,
     "metadata": {},
     "output_type": "execute_result"
    }
   ],
   "source": [
    "#Check the presence of missing values\n",
    "data.isnull().any()"
   ]
  },
  {
   "cell_type": "code",
   "execution_count": 8,
   "id": "f261e086",
   "metadata": {
    "execution": {
     "iopub.execute_input": "2024-05-06T16:19:24.970957Z",
     "iopub.status.busy": "2024-05-06T16:19:24.970208Z",
     "iopub.status.idle": "2024-05-06T16:19:24.982537Z",
     "shell.execute_reply": "2024-05-06T16:19:24.981295Z"
    },
    "papermill": {
     "duration": 0.023569,
     "end_time": "2024-05-06T16:19:24.984961",
     "exception": false,
     "start_time": "2024-05-06T16:19:24.961392",
     "status": "completed"
    },
    "tags": []
   },
   "outputs": [
    {
     "data": {
      "text/plain": [
       "sepal length      35\n",
       "sepal width       23\n",
       " petal length     43\n",
       "petal width       22\n",
       " flower type       3\n",
       "dtype: int64"
      ]
     },
     "execution_count": 8,
     "metadata": {},
     "output_type": "execute_result"
    }
   ],
   "source": [
    "#No of unique values in each column of the data in dataset\n",
    "data.nunique()"
   ]
  },
  {
   "cell_type": "code",
   "execution_count": 9,
   "id": "1b5926fa",
   "metadata": {
    "execution": {
     "iopub.execute_input": "2024-05-06T16:19:25.002086Z",
     "iopub.status.busy": "2024-05-06T16:19:25.001668Z",
     "iopub.status.idle": "2024-05-06T16:19:25.009298Z",
     "shell.execute_reply": "2024-05-06T16:19:25.008251Z"
    },
    "papermill": {
     "duration": 0.01842,
     "end_time": "2024-05-06T16:19:25.011333",
     "exception": false,
     "start_time": "2024-05-06T16:19:24.992913",
     "status": "completed"
    },
    "tags": []
   },
   "outputs": [
    {
     "data": {
      "text/plain": [
       "Index([' flower type'], dtype='object')"
      ]
     },
     "execution_count": 9,
     "metadata": {},
     "output_type": "execute_result"
    }
   ],
   "source": [
    "#Find non-numerical data in dataset\n",
    "data.select_dtypes(exclude='number').columns"
   ]
  },
  {
   "cell_type": "code",
   "execution_count": 10,
   "id": "648409a3",
   "metadata": {
    "execution": {
     "iopub.execute_input": "2024-05-06T16:19:25.028361Z",
     "iopub.status.busy": "2024-05-06T16:19:25.028000Z",
     "iopub.status.idle": "2024-05-06T16:19:25.034380Z",
     "shell.execute_reply": "2024-05-06T16:19:25.033422Z"
    },
    "papermill": {
     "duration": 0.017427,
     "end_time": "2024-05-06T16:19:25.036399",
     "exception": false,
     "start_time": "2024-05-06T16:19:25.018972",
     "status": "completed"
    },
    "tags": []
   },
   "outputs": [
    {
     "data": {
      "text/plain": [
       "Index(['sepal length', 'sepal width', ' petal length ', 'petal width',\n",
       "       ' flower type'],\n",
       "      dtype='object')"
      ]
     },
     "execution_count": 10,
     "metadata": {},
     "output_type": "execute_result"
    }
   ],
   "source": [
    "data.columns"
   ]
  },
  {
   "cell_type": "code",
   "execution_count": 11,
   "id": "5991f752",
   "metadata": {
    "execution": {
     "iopub.execute_input": "2024-05-06T16:19:25.053714Z",
     "iopub.status.busy": "2024-05-06T16:19:25.053332Z",
     "iopub.status.idle": "2024-05-06T16:19:25.062399Z",
     "shell.execute_reply": "2024-05-06T16:19:25.061215Z"
    },
    "papermill": {
     "duration": 0.020371,
     "end_time": "2024-05-06T16:19:25.064571",
     "exception": false,
     "start_time": "2024-05-06T16:19:25.044200",
     "status": "completed"
    },
    "tags": []
   },
   "outputs": [],
   "source": [
    "#Custom Mapping\n",
    "data[' flower type'] = data[' flower type'].map({'Iris-setosa': 0, 'Iris-versicolor': 1, 'Iris-virginica':2})"
   ]
  },
  {
   "cell_type": "code",
   "execution_count": 12,
   "id": "89b1bc17",
   "metadata": {
    "execution": {
     "iopub.execute_input": "2024-05-06T16:19:25.082819Z",
     "iopub.status.busy": "2024-05-06T16:19:25.081622Z",
     "iopub.status.idle": "2024-05-06T16:19:25.095270Z",
     "shell.execute_reply": "2024-05-06T16:19:25.094172Z"
    },
    "papermill": {
     "duration": 0.024896,
     "end_time": "2024-05-06T16:19:25.097468",
     "exception": false,
     "start_time": "2024-05-06T16:19:25.072572",
     "status": "completed"
    },
    "tags": []
   },
   "outputs": [
    {
     "data": {
      "text/html": [
       "<div>\n",
       "<style scoped>\n",
       "    .dataframe tbody tr th:only-of-type {\n",
       "        vertical-align: middle;\n",
       "    }\n",
       "\n",
       "    .dataframe tbody tr th {\n",
       "        vertical-align: top;\n",
       "    }\n",
       "\n",
       "    .dataframe thead th {\n",
       "        text-align: right;\n",
       "    }\n",
       "</style>\n",
       "<table border=\"1\" class=\"dataframe\">\n",
       "  <thead>\n",
       "    <tr style=\"text-align: right;\">\n",
       "      <th></th>\n",
       "      <th>sepal length</th>\n",
       "      <th>sepal width</th>\n",
       "      <th>petal length</th>\n",
       "      <th>petal width</th>\n",
       "      <th>flower type</th>\n",
       "    </tr>\n",
       "  </thead>\n",
       "  <tbody>\n",
       "    <tr>\n",
       "      <th>0</th>\n",
       "      <td>5.1</td>\n",
       "      <td>3.5</td>\n",
       "      <td>1.4</td>\n",
       "      <td>0.2</td>\n",
       "      <td>0</td>\n",
       "    </tr>\n",
       "    <tr>\n",
       "      <th>1</th>\n",
       "      <td>4.9</td>\n",
       "      <td>3.0</td>\n",
       "      <td>1.4</td>\n",
       "      <td>0.2</td>\n",
       "      <td>0</td>\n",
       "    </tr>\n",
       "    <tr>\n",
       "      <th>2</th>\n",
       "      <td>4.7</td>\n",
       "      <td>3.2</td>\n",
       "      <td>1.3</td>\n",
       "      <td>0.2</td>\n",
       "      <td>0</td>\n",
       "    </tr>\n",
       "    <tr>\n",
       "      <th>3</th>\n",
       "      <td>4.6</td>\n",
       "      <td>3.1</td>\n",
       "      <td>1.5</td>\n",
       "      <td>0.2</td>\n",
       "      <td>0</td>\n",
       "    </tr>\n",
       "    <tr>\n",
       "      <th>4</th>\n",
       "      <td>5.0</td>\n",
       "      <td>3.6</td>\n",
       "      <td>1.4</td>\n",
       "      <td>0.2</td>\n",
       "      <td>0</td>\n",
       "    </tr>\n",
       "  </tbody>\n",
       "</table>\n",
       "</div>"
      ],
      "text/plain": [
       "   sepal length  sepal width   petal length   petal width   flower type\n",
       "0           5.1          3.5             1.4          0.2             0\n",
       "1           4.9          3.0             1.4          0.2             0\n",
       "2           4.7          3.2             1.3          0.2             0\n",
       "3           4.6          3.1             1.5          0.2             0\n",
       "4           5.0          3.6             1.4          0.2             0"
      ]
     },
     "execution_count": 12,
     "metadata": {},
     "output_type": "execute_result"
    }
   ],
   "source": [
    "data.head()"
   ]
  },
  {
   "cell_type": "code",
   "execution_count": 13,
   "id": "e68dc40c",
   "metadata": {
    "execution": {
     "iopub.execute_input": "2024-05-06T16:19:25.115269Z",
     "iopub.status.busy": "2024-05-06T16:19:25.114923Z",
     "iopub.status.idle": "2024-05-06T16:19:25.342296Z",
     "shell.execute_reply": "2024-05-06T16:19:25.341447Z"
    },
    "papermill": {
     "duration": 0.238801,
     "end_time": "2024-05-06T16:19:25.344391",
     "exception": false,
     "start_time": "2024-05-06T16:19:25.105590",
     "status": "completed"
    },
    "tags": []
   },
   "outputs": [
    {
     "name": "stdout",
     "output_type": "stream",
     "text": [
      " flower type\n",
      "0    50\n",
      "1    50\n",
      "2    50\n",
      "Name: count, dtype: int64\n"
     ]
    },
    {
     "data": {
      "image/png": "[encoded data removed]",
      "text/plain": [
       "<Figure size 640x480 with 1 Axes>"
      ]
     },
     "metadata": {},
     "output_type": "display_data"
    }
   ],
   "source": [
    "ax = sns.countplot(x=' flower type',data=data)\n",
    "print(data[' flower type'].value_counts())"
   ]
  },
  {
   "cell_type": "code",
   "execution_count": 14,
   "id": "bad6b1fe",
   "metadata": {
    "execution": {
     "iopub.execute_input": "2024-05-06T16:19:25.362578Z",
     "iopub.status.busy": "2024-05-06T16:19:25.362184Z",
     "iopub.status.idle": "2024-05-06T16:19:25.374670Z",
     "shell.execute_reply": "2024-05-06T16:19:25.373592Z"
    },
    "papermill": {
     "duration": 0.024165,
     "end_time": "2024-05-06T16:19:25.376761",
     "exception": false,
     "start_time": "2024-05-06T16:19:25.352596",
     "status": "completed"
    },
    "tags": []
   },
   "outputs": [
    {
     "name": "stdout",
     "output_type": "stream",
     "text": [
      "X_train shape: (120, 4)\n",
      "X_test shape: (30, 4)\n",
      "y_train shape: (120,)\n",
      "y_test shape: (30,)\n"
     ]
    }
   ],
   "source": [
    "\n",
    "# Splitting features (X) and target variable (y)\n",
    "X = data.iloc[:, :-1]  # Selecting all columns except the last one as features\n",
    "y = data.iloc[:, -1]   # Selecting the last column as the target variable\n",
    "\n",
    "# Splitting the data into train and test sets\n",
    "from sklearn.model_selection import train_test_split\n",
    "X_train, X_test, y_train, y_test = train_test_split(X, y, test_size=0.2, random_state=42)\n",
    "\n",
    "# Printing the shapes of train and test sets\n",
    "print(\"X_train shape:\", X_train.shape)\n",
    "print(\"X_test shape:\", X_test.shape)\n",
    "print(\"y_train shape:\", y_train.shape)\n",
    "print(\"y_test shape:\", y_test.shape)"
   ]
  },
  {
   "cell_type": "code",
   "execution_count": 15,
   "id": "6fcbd484",
   "metadata": {
    "execution": {
     "iopub.execute_input": "2024-05-06T16:19:25.395236Z",
     "iopub.status.busy": "2024-05-06T16:19:25.394852Z",
     "iopub.status.idle": "2024-05-06T16:19:25.819329Z",
     "shell.execute_reply": "2024-05-06T16:19:25.818138Z"
    },
    "papermill": {
     "duration": 0.43635,
     "end_time": "2024-05-06T16:19:25.821494",
     "exception": false,
     "start_time": "2024-05-06T16:19:25.385144",
     "status": "completed"
    },
    "tags": []
   },
   "outputs": [
    {
     "data": {
      "image/png": "[encoded data removed]",
      "text/plain": [
       "<Figure size 1500x1000 with 2 Axes>"
      ]
     },
     "metadata": {},
     "output_type": "display_data"
    }
   ],
   "source": [
    "#Check for correlation\n",
    "\n",
    "plt.figure(figsize = (15, 10))\n",
    "correlation_matrix = data.corr()\n",
    "sns.heatmap(correlation_matrix, annot=True, cmap='coolwarm')\n",
    "plt.title('Correlation Matrix Heatmap')\n",
    "plt.show()"
   ]
  },
  {
   "cell_type": "code",
   "execution_count": 16,
   "id": "2970791a",
   "metadata": {
    "execution": {
     "iopub.execute_input": "2024-05-06T16:19:25.842421Z",
     "iopub.status.busy": "2024-05-06T16:19:25.842028Z",
     "iopub.status.idle": "2024-05-06T16:19:25.846579Z",
     "shell.execute_reply": "2024-05-06T16:19:25.845559Z"
    },
    "papermill": {
     "duration": 0.017363,
     "end_time": "2024-05-06T16:19:25.848628",
     "exception": false,
     "start_time": "2024-05-06T16:19:25.831265",
     "status": "completed"
    },
    "tags": []
   },
   "outputs": [],
   "source": [
    "from sklearn.model_selection import GridSearchCV"
   ]
  },
  {
   "cell_type": "markdown",
   "id": "ef7c2ebe",
   "metadata": {
    "papermill": {
     "duration": 0.009128,
     "end_time": "2024-05-06T16:19:25.867221",
     "exception": false,
     "start_time": "2024-05-06T16:19:25.858093",
     "status": "completed"
    },
    "tags": []
   },
   "source": [
    "Logistic Regression"
   ]
  },
  {
   "cell_type": "code",
   "execution_count": 17,
   "id": "779650ea",
   "metadata": {
    "execution": {
     "iopub.execute_input": "2024-05-06T16:19:25.888534Z",
     "iopub.status.busy": "2024-05-06T16:19:25.887722Z",
     "iopub.status.idle": "2024-05-06T16:19:26.312671Z",
     "shell.execute_reply": "2024-05-06T16:19:26.311577Z"
    },
    "papermill": {
     "duration": 0.438219,
     "end_time": "2024-05-06T16:19:26.315088",
     "exception": false,
     "start_time": "2024-05-06T16:19:25.876869",
     "status": "completed"
    },
    "tags": []
   },
   "outputs": [
    {
     "name": "stdout",
     "output_type": "stream",
     "text": [
      "Best Hyperparameters:  {'C': 10.0, 'penalty': 'l2'}\n",
      "[[19  0  0]\n",
      " [ 0 11  0]\n",
      " [ 0  1 14]]\n",
      "0.9777777777777777\n",
      "              precision    recall  f1-score   support\n",
      "\n",
      "           0       1.00      1.00      1.00        19\n",
      "           1       0.92      1.00      0.96        11\n",
      "           2       1.00      0.93      0.97        15\n",
      "\n",
      "    accuracy                           0.98        45\n",
      "   macro avg       0.97      0.98      0.97        45\n",
      "weighted avg       0.98      0.98      0.98        45\n",
      "\n"
     ]
    }
   ],
   "source": [
    "from sklearn.linear_model import LogisticRegression\n",
    "\n",
    "feature_train , feature_test, target_train, target_test = train_test_split(X, y,  test_size=0.3)\n",
    "\n",
    "param_grid = {\n",
    "    'penalty': ['l1', 'l2'],\n",
    "    'C': [0.1, 1.0, 10.0]\n",
    "}\n",
    "\n",
    "grid_search = GridSearchCV(LogisticRegression(), param_grid)\n",
    "grid_search.fit(feature_train, target_train)\n",
    "\n",
    "best_estimator = grid_search.best_estimator_\n",
    "best_params = grid_search.best_params_\n",
    "\n",
    "print(\"Best Hyperparameters: \",best_params)\n",
    "\n",
    "predictions = best_estimator.predict(feature_test)\n",
    "\n",
    "lr_acc = accuracy_score(target_test,predictions)\n",
    "print(confusion_matrix(target_test,predictions))\n",
    "print(lr_acc)\n",
    "print(classification_report(target_test,predictions))\n"
   ]
  },
  {
   "cell_type": "markdown",
   "id": "b32a767f",
   "metadata": {
    "papermill": {
     "duration": 0.009233,
     "end_time": "2024-05-06T16:19:26.333771",
     "exception": false,
     "start_time": "2024-05-06T16:19:26.324538",
     "status": "completed"
    },
    "tags": []
   },
   "source": [
    "KNN"
   ]
  },
  {
   "cell_type": "code",
   "execution_count": 18,
   "id": "22b3b756",
   "metadata": {
    "execution": {
     "iopub.execute_input": "2024-05-06T16:19:26.354053Z",
     "iopub.status.busy": "2024-05-06T16:19:26.353637Z",
     "iopub.status.idle": "2024-05-06T16:19:26.532346Z",
     "shell.execute_reply": "2024-05-06T16:19:26.531363Z"
    },
    "papermill": {
     "duration": 0.191754,
     "end_time": "2024-05-06T16:19:26.534825",
     "exception": false,
     "start_time": "2024-05-06T16:19:26.343071",
     "status": "completed"
    },
    "tags": []
   },
   "outputs": [
    {
     "name": "stdout",
     "output_type": "stream",
     "text": [
      "Best hyperparameters:  {'n_neighbors': 7}\n",
      "[[14  0  0]\n",
      " [ 0 15  1]\n",
      " [ 0  0 15]]\n",
      "0.9777777777777777\n",
      "              precision    recall  f1-score   support\n",
      "\n",
      "           0       1.00      1.00      1.00        14\n",
      "           1       1.00      0.94      0.97        16\n",
      "           2       0.94      1.00      0.97        15\n",
      "\n",
      "    accuracy                           0.98        45\n",
      "   macro avg       0.98      0.98      0.98        45\n",
      "weighted avg       0.98      0.98      0.98        45\n",
      "\n"
     ]
    }
   ],
   "source": [
    "from sklearn.neighbors import KNeighborsClassifier\n",
    "\n",
    "\n",
    "feature_train , feature_test, target_train, target_test = train_test_split(X, y, test_size=0.3)\n",
    "\n",
    "knn = KNeighborsClassifier()\n",
    "\n",
    "param_grid = {'n_neighbors': [3, 5, 7]}\n",
    "\n",
    "grid_search = GridSearchCV(knn, param_grid)\n",
    "\n",
    "grid_search.fit(feature_train, target_train)\n",
    "\n",
    "best_estimator = grid_search.best_estimator_\n",
    "best_params = grid_search.best_params_\n",
    "\n",
    "print(\"Best hyperparameters: \",best_params)\n",
    "\n",
    "predictions = best_estimator.predict(feature_test)\n",
    "knn_acc = accuracy_score(target_test,predictions)\n",
    "print(confusion_matrix(target_test,predictions))\n",
    "print(knn_acc)\n",
    "print(classification_report(target_test,predictions))"
   ]
  },
  {
   "cell_type": "markdown",
   "id": "49be16a0",
   "metadata": {
    "papermill": {
     "duration": 0.009252,
     "end_time": "2024-05-06T16:19:26.553854",
     "exception": false,
     "start_time": "2024-05-06T16:19:26.544602",
     "status": "completed"
    },
    "tags": []
   },
   "source": [
    "Naive Bayes Classifier"
   ]
  },
  {
   "cell_type": "code",
   "execution_count": 19,
   "id": "a5e2b404",
   "metadata": {
    "execution": {
     "iopub.execute_input": "2024-05-06T16:19:26.574924Z",
     "iopub.status.busy": "2024-05-06T16:19:26.574520Z",
     "iopub.status.idle": "2024-05-06T16:19:26.622029Z",
     "shell.execute_reply": "2024-05-06T16:19:26.620915Z"
    },
    "papermill": {
     "duration": 0.060597,
     "end_time": "2024-05-06T16:19:26.624287",
     "exception": false,
     "start_time": "2024-05-06T16:19:26.563690",
     "status": "completed"
    },
    "tags": []
   },
   "outputs": [
    {
     "name": "stdout",
     "output_type": "stream",
     "text": [
      "Best hyperparameters:  {}\n",
      "[[16  0  0]\n",
      " [ 0 14  2]\n",
      " [ 0  1 12]]\n",
      "0.9333333333333333\n",
      "              precision    recall  f1-score   support\n",
      "\n",
      "           0       1.00      1.00      1.00        16\n",
      "           1       0.93      0.88      0.90        16\n",
      "           2       0.86      0.92      0.89        13\n",
      "\n",
      "    accuracy                           0.93        45\n",
      "   macro avg       0.93      0.93      0.93        45\n",
      "weighted avg       0.94      0.93      0.93        45\n",
      "\n"
     ]
    }
   ],
   "source": [
    "from sklearn.naive_bayes import GaussianNB\n",
    "\n",
    "feature_train , feature_test, target_train, target_test = train_test_split(X, y, test_size=0.3)\n",
    "\n",
    "gnb = GaussianNB()\n",
    "\n",
    "param_grid = {}\n",
    "\n",
    "grid_search = GridSearchCV(gnb, param_grid)\n",
    "grid_search.fit(feature_train, target_train)\n",
    "\n",
    "print(\"Best hyperparameters: \", grid_search.best_params_)\n",
    "\n",
    "best_gnb = grid_search.best_estimator_\n",
    "\n",
    "predictions = best_gnb.predict(feature_test)\n",
    "nbc_acc = accuracy_score(target_test,predictions)\n",
    "print(confusion_matrix(target_test,predictions))\n",
    "print(nbc_acc)\n",
    "print(classification_report(target_test,predictions))"
   ]
  },
  {
   "cell_type": "markdown",
   "id": "b02f8544",
   "metadata": {
    "papermill": {
     "duration": 0.009161,
     "end_time": "2024-05-06T16:19:26.643015",
     "exception": false,
     "start_time": "2024-05-06T16:19:26.633854",
     "status": "completed"
    },
    "tags": []
   },
   "source": [
    "SVM"
   ]
  },
  {
   "cell_type": "code",
   "execution_count": 20,
   "id": "0d316b09",
   "metadata": {
    "execution": {
     "iopub.execute_input": "2024-05-06T16:19:26.664230Z",
     "iopub.status.busy": "2024-05-06T16:19:26.663614Z",
     "iopub.status.idle": "2024-05-06T16:19:27.095968Z",
     "shell.execute_reply": "2024-05-06T16:19:27.094891Z"
    },
    "papermill": {
     "duration": 0.445323,
     "end_time": "2024-05-06T16:19:27.098069",
     "exception": false,
     "start_time": "2024-05-06T16:19:26.652746",
     "status": "completed"
    },
    "tags": []
   },
   "outputs": [
    {
     "name": "stdout",
     "output_type": "stream",
     "text": [
      "Best hyperparameters:  {'C': 1, 'gamma': 0.1, 'kernel': 'linear'}\n",
      "[[10  0  0]\n",
      " [ 0  9  0]\n",
      " [ 0  0 11]]\n",
      "1.0\n",
      "              precision    recall  f1-score   support\n",
      "\n",
      "           0       1.00      1.00      1.00        10\n",
      "           1       1.00      1.00      1.00         9\n",
      "           2       1.00      1.00      1.00        11\n",
      "\n",
      "    accuracy                           1.00        30\n",
      "   macro avg       1.00      1.00      1.00        30\n",
      "weighted avg       1.00      1.00      1.00        30\n",
      "\n"
     ]
    }
   ],
   "source": [
    "from sklearn.svm import SVC\n",
    "\n",
    "feature_train , feature_test, target_train, target_test = train_test_split(X, y, test_size=0.2,random_state = 42)\n",
    "\n",
    "svm = SVC()\n",
    "\n",
    "param_grid = {'C': [0.1, 1, 10],\n",
    "              'gamma': [0.1, 1, 10],\n",
    "              'kernel': ['linear', 'rbf']}\n",
    "\n",
    "grid_search = GridSearchCV(svm, param_grid)\n",
    "grid_search.fit(feature_train, target_train)\n",
    "\n",
    "print(\"Best hyperparameters: \", grid_search.best_params_)\n",
    "\n",
    "best_svm = grid_search.best_estimator_\n",
    "\n",
    "predictions = best_svm.predict(feature_test)\n",
    "svm_acc = accuracy_score(target_test,predictions)\n",
    "print(confusion_matrix(target_test,predictions))\n",
    "print(svm_acc)\n",
    "print(classification_report(target_test,predictions))"
   ]
  },
  {
   "cell_type": "markdown",
   "id": "c93736f8",
   "metadata": {
    "papermill": {
     "duration": 0.010039,
     "end_time": "2024-05-06T16:19:27.117775",
     "exception": false,
     "start_time": "2024-05-06T16:19:27.107736",
     "status": "completed"
    },
    "tags": []
   },
   "source": [
    "Decision Tree"
   ]
  },
  {
   "cell_type": "code",
   "execution_count": 21,
   "id": "5b0982e3",
   "metadata": {
    "execution": {
     "iopub.execute_input": "2024-05-06T16:19:27.139686Z",
     "iopub.status.busy": "2024-05-06T16:19:27.139244Z",
     "iopub.status.idle": "2024-05-06T16:19:27.461150Z",
     "shell.execute_reply": "2024-05-06T16:19:27.460083Z"
    },
    "papermill": {
     "duration": 0.33556,
     "end_time": "2024-05-06T16:19:27.463422",
     "exception": false,
     "start_time": "2024-05-06T16:19:27.127862",
     "status": "completed"
    },
    "tags": []
   },
   "outputs": [
    {
     "name": "stdout",
     "output_type": "stream",
     "text": [
      "Best Parameter with Grid Search: {'criterion': 'entropy', 'max_depth': 5}\n",
      "[[11  0  0]\n",
      " [ 0 13  0]\n",
      " [ 0  0  6]]\n",
      "1.0\n",
      "              precision    recall  f1-score   support\n",
      "\n",
      "           0       1.00      1.00      1.00        11\n",
      "           1       1.00      1.00      1.00        13\n",
      "           2       1.00      1.00      1.00         6\n",
      "\n",
      "    accuracy                           1.00        30\n",
      "   macro avg       1.00      1.00      1.00        30\n",
      "weighted avg       1.00      1.00      1.00        30\n",
      "\n"
     ]
    }
   ],
   "source": [
    "import numpy as np\n",
    "from sklearn.tree import DecisionTreeClassifier\n",
    "\n",
    "\n",
    "param_grid={'criterion': ['gini', 'entropy'],\n",
    "            'max_depth': ['None', 5, 10, 15]\n",
    "            }\n",
    "\n",
    "\n",
    "tree=GridSearchCV(DecisionTreeClassifier(),param_grid,cv=10)\n",
    "\n",
    "feature_train , feature_test, target_train, target_test = train_test_split(X, y, test_size=0.2,random_state = 0)\n",
    "\n",
    "\n",
    "tree.fit(feature_train,target_train)\n",
    "#tree_predictons=tree.predict_proba(feature_test)[:,1]\n",
    "\n",
    "print(\"Best Parameter with Grid Search:\",tree.best_params_)\n",
    "\n",
    "best_dt = tree.best_estimator_\n",
    "\n",
    "predictions = best_dt.predict(feature_test)\n",
    "dt_acc = accuracy_score(target_test,predictions)\n",
    "\n",
    "print(confusion_matrix(target_test,predictions))\n",
    "print(dt_acc)\n",
    "print(classification_report(target_test, predictions))"
   ]
  },
  {
   "cell_type": "markdown",
   "id": "3703dd9a",
   "metadata": {
    "papermill": {
     "duration": 0.009212,
     "end_time": "2024-05-06T16:19:27.482418",
     "exception": false,
     "start_time": "2024-05-06T16:19:27.473206",
     "status": "completed"
    },
    "tags": []
   },
   "source": [
    "Random Forest"
   ]
  },
  {
   "cell_type": "markdown",
   "id": "90f34943",
   "metadata": {
    "papermill": {
     "duration": 0.009233,
     "end_time": "2024-05-06T16:19:27.501136",
     "exception": false,
     "start_time": "2024-05-06T16:19:27.491903",
     "status": "completed"
    },
    "tags": []
   },
   "source": [
    "Boosting"
   ]
  },
  {
   "cell_type": "code",
   "execution_count": 22,
   "id": "e65df4e5",
   "metadata": {
    "execution": {
     "iopub.execute_input": "2024-05-06T16:19:27.522132Z",
     "iopub.status.busy": "2024-05-06T16:19:27.521569Z",
     "iopub.status.idle": "2024-05-06T16:19:45.476959Z",
     "shell.execute_reply": "2024-05-06T16:19:45.475770Z"
    },
    "papermill": {
     "duration": 17.968895,
     "end_time": "2024-05-06T16:19:45.479493",
     "exception": false,
     "start_time": "2024-05-06T16:19:27.510598",
     "status": "completed"
    },
    "tags": []
   },
   "outputs": [
    {
     "name": "stdout",
     "output_type": "stream",
     "text": [
      "Best parameters found:  {'algorithm': 'SAMME', 'learning_rate': 0.1, 'n_estimators': 200}\n",
      "[[11  0  0]\n",
      " [ 0 12  1]\n",
      " [ 0  0  6]]\n",
      "0.9666666666666667\n",
      "              precision    recall  f1-score   support\n",
      "\n",
      "           0       1.00      1.00      1.00        11\n",
      "           1       1.00      0.92      0.96        13\n",
      "           2       0.86      1.00      0.92         6\n",
      "\n",
      "    accuracy                           0.97        30\n",
      "   macro avg       0.95      0.97      0.96        30\n",
      "weighted avg       0.97      0.97      0.97        30\n",
      "\n"
     ]
    }
   ],
   "source": [
    "from sklearn.ensemble import AdaBoostClassifier\n",
    "\n",
    "feature_train , feature_test, target_train, target_test = train_test_split(X, y, test_size=0.2)\n",
    "\n",
    "param_grid = {\n",
    "    'n_estimators': [50, 100, 200],\n",
    "    'learning_rate': [0.1, 0.01, 0.001],\n",
    "    'algorithm': ['SAMME', 'SAMME.R']\n",
    "}\n",
    "\n",
    "ada_classifier = AdaBoostClassifier()\n",
    "\n",
    "grid_search = GridSearchCV(ada_classifier, param_grid)\n",
    "\n",
    "grid_search.fit(feature_train,target_train)\n",
    "\n",
    "print(\"Best parameters found: \", grid_search.best_params_)\n",
    "\n",
    "prediction = grid_search.predict(feature_test)\n",
    "boost_acc = accuracy_score(target_test, prediction)\n",
    "\n",
    "print(confusion_matrix(target_test,prediction))\n",
    "\n",
    "print(boost_acc)\n",
    "\n",
    "print(classification_report(target_test, prediction))"
   ]
  },
  {
   "cell_type": "markdown",
   "id": "1eaa1e9e",
   "metadata": {
    "papermill": {
     "duration": 0.009427,
     "end_time": "2024-05-06T16:19:45.499414",
     "exception": false,
     "start_time": "2024-05-06T16:19:45.489987",
     "status": "completed"
    },
    "tags": []
   },
   "source": [
    "Plot comparative graph for all ML Algorithms"
   ]
  },
  {
   "cell_type": "code",
   "execution_count": 23,
   "id": "9a711461",
   "metadata": {
    "execution": {
     "iopub.execute_input": "2024-05-06T16:19:45.520484Z",
     "iopub.status.busy": "2024-05-06T16:19:45.520118Z",
     "iopub.status.idle": "2024-05-06T16:19:45.771692Z",
     "shell.execute_reply": "2024-05-06T16:19:45.770610Z"
    },
    "papermill": {
     "duration": 0.264877,
     "end_time": "2024-05-06T16:19:45.774061",
     "exception": false,
     "start_time": "2024-05-06T16:19:45.509184",
     "status": "completed"
    },
    "tags": []
   },
   "outputs": [
    {
     "data": {
      "image/png": "[encoded data removed]",
      "text/plain": [
       "<Figure size 800x600 with 1 Axes>"
      ]
     },
     "metadata": {},
     "output_type": "display_data"
    }
   ],
   "source": [
    "# Define the methods and their corresponding accuracies\n",
    "methods = ['LogisticRegression', 'KNN', 'NaiveBayes', 'SVM', 'DecisionTree', 'Boosting']\n",
    "accuracies = [lr_acc, knn_acc, nbc_acc, svm_acc, dt_acc, boost_acc]  # Example accuracies, replace with your actual data\n",
    "\n",
    "# Plotting the bar chart\n",
    "plt.figure(figsize=(8, 6))\n",
    "plt.bar(methods, accuracies, color='skyblue')\n",
    "\n",
    "# Adding titles and labels\n",
    "plt.title('Accuracy of Different Methods')\n",
    "plt.xlabel('Methods')\n",
    "plt.ylabel('Accuracy')\n",
    "\n",
    "# Display the plot\n",
    "plt.ylim(0, 1)  # Set y-axis limit from 0 to 1\n",
    "plt.grid(axis='y', linestyle='--', alpha=0.7)  # Adding grid lines\n",
    "plt.show()"
   ]
  },
  {
   "cell_type": "markdown",
   "id": "20a9aeea",
   "metadata": {
    "papermill": {
     "duration": 0.01084,
     "end_time": "2024-05-06T16:19:45.795223",
     "exception": false,
     "start_time": "2024-05-06T16:19:45.784383",
     "status": "completed"
    },
    "tags": []
   },
   "source": [
    "Conclusion: \n",
    "\n",
    "Among all methods SVM and Decision Tree give 100% accuracy."
   ]
  }
 ],
 "metadata": {
  "kaggle": {
   "accelerator": "none",
   "dataSources": [
    {
     "datasetId": 134415,
     "sourceId": 319416,
     "sourceType": "datasetVersion"
    }
   ],
   "dockerImageVersionId": 30698,
   "isGpuEnabled": false,
   "isInternetEnabled": true,
   "language": "python",
   "sourceType": "notebook"
  },
  "kernelspec": {
   "display_name": "Python 3",
   "language": "python",
   "name": "python3"
  },
  "language_info": {
   "codemirror_mode": {
    "name": "ipython",
    "version": 3
   },
   "file_extension": ".py",
   "mimetype": "text/x-python",
   "name": "python",
   "nbconvert_exporter": "python",
   "pygments_lexer": "ipython3",
   "version": "3.10.13"
  },
  "papermill": {
   "default_parameters": {},
   "duration": 27.232653,
   "end_time": "2024-05-06T16:19:46.426210",
   "environment_variables": {},
   "exception": null,
   "input_path": "__notebook__.ipynb",
   "output_path": "__notebook__.ipynb",
   "parameters": {},
   "start_time": "2024-05-06T16:19:19.193557",
   "version": "2.5.0"
  }
 },
 "nbformat": 4,
 "nbformat_minor": 5
}
